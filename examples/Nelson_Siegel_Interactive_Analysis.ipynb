{
 "cells": [
  {
   "cell_type": "markdown",
   "metadata": {},
   "source": [
    "# 📊 Nelson-Siegel Yield Curve Interactive Analysis\n",
    "\n",
    "**A Comprehensive Guide to Yield Curve Modeling with Economic Insights**\n",
    "\n",
    "---\n",
    "\n",
    "This notebook provides an interactive exploration of the Nelson-Siegel yield curve model with detailed economic and financial explanations. You'll learn how to:\n",
    "\n",
    "- 🎯 Understand the economic meaning behind yield curve shapes\n",
    "- 📈 Explore Nelson-Siegel parameters interactively\n",
    "- 🏛️ Compare Treasury and TIPS yield curves\n",
    "- 📊 Analyze historical factor evolution\n",
    "- 💼 Apply insights to real-world bond investment decisions\n",
    "\n",
    "---\n",
    "\n",
    "## 📚 Prerequisites\n",
    "\n",
    "Make sure you have the required packages installed:\n",
    "\n",
    "```bash\n",
    "pip install -e \".[interactive]\"  # Install with interactive features\n",
    "# OR for full environment:\n",
    "pip install -e \".[dev,interactive,data,notebooks]\"\n",
    "```\n"
   ]
  },
  {
   "cell_type": "code",
   "metadata": {
    "ExecuteTime": {
     "end_time": "2025-09-04T01:27:07.158913Z",
     "start_time": "2025-09-04T01:27:07.144355Z"
    }
   },
   "source": [
    "# Import required libraries\n",
    "import numpy as np\n",
    "import pandas as pd\n",
    "import matplotlib.pyplot as plt\n",
    "import warnings\n",
    "import sys\n",
    "from pathlib import Path\n",
    "\n",
    "# Add src directory to path (if running from examples directory)\n",
    "src_path = Path.cwd().parent / \"src\"\n",
    "if src_path.exists():\n",
    "    sys.path.insert(0, str(src_path))\n",
    "\n",
    "# Import nelson_siegel components\n",
    "from nelson_siegel import (\n",
    "    NelsonSiegelModel,\n",
    "    TreasuryNelsonSiegelModel,\n",
    "    TIPSNelsonSiegelModel,\n",
    "    YieldCurveAnalyzer,\n",
    "    YieldCurvePlotter,\n",
    "    DataManager\n",
    ")\n",
    "\n",
    "# Try to import interactive components\n",
    "try:\n",
    "    from nelson_siegel.interactive import (\n",
    "        InteractiveYieldCurveExplorer,\n",
    "        HistoricalFactorExplorer,\n",
    "        create_yield_curve_tutorial\n",
    "    )\n",
    "    import ipywidgets as widgets\n",
    "    from IPython.display import display, HTML\n",
    "    HAS_WIDGETS = True\n",
    "    print(\"✅ Interactive widgets available!\")\n",
    "except ImportError as e:\n",
    "    HAS_WIDGETS = False\n",
    "    print(f\"⚠️ Interactive widgets not available: {e}\")\n",
    "    print(\"Install with: pip install -e '.[interactive]'\")\n",
    "\n",
    "warnings.filterwarnings('ignore')\n",
    "plt.style.use('seaborn-v0_8' if 'seaborn-v0_8' in plt.style.available else 'default')\n",
    "\n",
    "print(\"📦 Libraries loaded successfully!\")\n"
   ],
   "outputs": [
    {
     "name": "stdout",
     "output_type": "stream",
     "text": [
      "✅ Interactive widgets available!\n",
      "📦 Libraries loaded successfully!\n"
     ]
    }
   ],
   "execution_count": 13
  },
  {
   "cell_type": "markdown",
   "metadata": {},
   "source": [
    "\n"
   ]
  },
  {
   "cell_type": "markdown",
   "metadata": {},
   "source": [
    "## 🔬 Chapter 2: The Nelson-Siegel Model Deep Dive\n",
    "\n",
    "### Mathematical Foundation\n",
    "\n",
    "The Nelson-Siegel model represents yield curves using four parameters:\n",
    "\n",
    "$$y(m) = \\beta_0 + \\beta_1 \\left(\\frac{1 - e^{-m/\\tau}}{m/\\tau}\\right) + \\beta_2 \\left(\\frac{1 - e^{-m/\\tau}}{m/\\tau} - e^{-m/\\tau}\\right)$$\n",
    "\n",
    "Where:\n",
    "- **$\\beta_0$ (Level)**: Long-term rate, represents the yield when maturity approaches infinity\n",
    "- **$\\beta_1$ (Slope)**: Controls the short-term behavior and overall slope\n",
    "- **$\\beta_2$ (Curvature)**: Controls the curvature, particularly around the medium term\n",
    "- **$\\tau$ (Tau)**: Controls the exponential decay rate and determines where curvature peaks\n",
    "\n",
    "### Economic Interpretation\n",
    "\n",
    "#### 📊 **Level Factor ($\\beta_0$)**\n",
    "- Represents **long-term growth and inflation expectations**\n",
    "- Higher $\\beta_0$ → Higher expected long-term rates\n",
    "- Influenced by central bank credibility and inflation targets\n",
    "\n",
    "#### 📈 **Slope Factor ($\\beta_1$)**  \n",
    "- Captures **monetary policy stance**\n",
    "- Negative $\\beta_1$ → Normal upward-sloping curve (expansionary expectations)\n",
    "- Positive $\\beta_1$ → Inverted curve (contractionary policy/recession fears)\n",
    "\n",
    "#### 🌊 **Curvature Factor ($\\beta_2$)**\n",
    "- Reflects **medium-term economic uncertainties**\n",
    "- Positive $\\beta_2$ → Humped curve (uncertainty around medium term)\n",
    "- Negative $\\beta_2$ → U-shaped curve (flight to medium-term quality)\n"
   ]
  },
  {
   "cell_type": "code",
   "metadata": {
    "ExecuteTime": {
     "end_time": "2025-09-04T01:27:12.111377Z",
     "start_time": "2025-09-04T01:27:12.011937Z"
    }
   },
   "source": [
    "# Let's create sample data and fit a basic Nelson-Siegel model\n",
    "if HAS_WIDGETS:\n",
    "    # Create sample Treasury data\n",
    "    from nelson_siegel import TreasuryNelsonSiegelModel, YieldCurvePlotter\n",
    "    \n",
    "    # Sample yield curve data (typical US Treasury curve)\n",
    "    maturities = np.array([0.25, 0.5, 1, 2, 3, 5, 7, 10, 20, 30])\n",
    "    yields = np.array([5.2, 5.1, 4.9, 4.6, 4.4, 4.3, 4.35, 4.4, 4.6, 4.5]) / 100\n",
    "    \n",
    "    # Initialize model and fit\n",
    "    model = TreasuryNelsonSiegelModel()\n",
    "    model.fit(maturities, yields)\n",
    "    \n",
    "    # Get the fitted parameters\n",
    "    factors = model.get_factors()\n",
    "    \n",
    "    print(\"🎯 Fitted Nelson-Siegel Parameters:\")\n",
    "    print(f\"   Level (β₀): {factors['Level']*100:.3f}%\")\n",
    "    print(f\"   Slope (β₁): {factors['Slope']*100:.3f}%\") \n",
    "    print(f\"   Curvature (β₂): {factors['Curvature']*100:.3f}%\")\n",
    "    print(f\"   Tau (λ): {factors['Tau']:.3f} years\")\n",
    "    \n",
    "    # Calculate model fit quality\n",
    "    predicted_yields = model.predict(maturities)\n",
    "    rmse = np.sqrt(np.mean((yields - predicted_yields)**2)) * 10000  # in basis points\n",
    "    print(f\"\\n📊 Model Fit Quality:\")\n",
    "    print(f\"   RMSE: {rmse:.1f} basis points\")\n",
    "    \n",
    "    # Create a basic plot\n",
    "    plotter = YieldCurvePlotter()\n",
    "    fig, ax = plt.subplots(figsize=(10, 6))\n",
    "    \n",
    "    # Plot observed vs fitted yields\n",
    "    ax.scatter(maturities, yields*100, color='red', s=50, label='Observed', zorder=5)\n",
    "    \n",
    "    # Plot fitted curve\n",
    "    maturity_range = np.linspace(0.25, 30, 100)\n",
    "    fitted_curve = model.predict(maturity_range)\n",
    "    ax.plot(maturity_range, fitted_curve*100, 'b-', linewidth=2, label='Nelson-Siegel Fit')\n",
    "    \n",
    "    ax.set_xlabel('Maturity (Years)')\n",
    "    ax.set_ylabel('Yield (%)')\n",
    "    ax.set_title('Sample Nelson-Siegel Model Fit')\n",
    "    ax.legend()\n",
    "    ax.grid(True, alpha=0.3)\n",
    "    plt.tight_layout()\n",
    "    plt.show()\n",
    "else:\n",
    "    print(\"⚠️ Interactive widgets not available. Install with: pip install ipywidgets\")\n"
   ],
   "outputs": [
    {
     "name": "stdout",
     "output_type": "stream",
     "text": [
      "🎯 Fitted Nelson-Siegel Parameters:\n",
      "   Level (β₀): 4.666%\n",
      "   Slope (β₁): 0.720%\n",
      "   Curvature (β₂): -2.113%\n",
      "   Tau (λ): 2.091 years\n",
      "\n",
      "📊 Model Fit Quality:\n",
      "   RMSE: 3.9 basis points\n"
     ]
    },
    {
     "data": {
      "text/plain": [
       "<Figure size 1000x600 with 1 Axes>"
      ],
      "image/png": "[encoded data removed]"
     },
     "metadata": {},
     "output_type": "display_data"
    }
   ],
   "execution_count": 14
  },
  {
   "cell_type": "markdown",
   "metadata": {},
   "source": [
    "## 🎛️ Chapter 3: Interactive Parameter Exploration\n",
    "\n",
    "Now let's explore how each parameter affects the yield curve shape using interactive widgets. This will help you understand the economic intuition behind each factor.\n"
   ]
  },
  {
   "cell_type": "code",
   "metadata": {
    "ExecuteTime": {
     "end_time": "2025-09-04T01:28:48.138375Z",
     "start_time": "2025-09-04T01:28:48.011281Z"
    }
   },
   "source": [
    "# Interactive Parameter Explorer\n",
    "if HAS_WIDGETS:\n",
    "    explorer = InteractiveYieldCurveExplorer()\n",
    "    \n",
    "    print(\"🎛️ Interactive Yield Curve Explorer\")\n",
    "    print(\"=\" * 50)\n",
    "    print(\"Use the sliders below to see how each parameter affects the yield curve:\")\n",
    "    print(\"• β₀ (Level): Controls long-term rates\")\n",
    "    print(\"• β₁ (Slope): Controls curve slope\") \n",
    "    print(\"• β₂ (Curvature): Controls medium-term shape\")\n",
    "    print(\"• τ (Tau): Controls decay rate\")\n",
    "    print()\n",
    "    \n",
    "    # Display the interactive widget\n",
    "    display(explorer.create_full_interactive_dashboard())\n",
    "else:\n",
    "    print(\"⚠️ Install ipywidgets to use interactive features: pip install ipywidgets\")\n"
   ],
   "outputs": [
    {
     "name": "stdout",
     "output_type": "stream",
     "text": [
      "🎛️ Interactive Yield Curve Explorer\n",
      "==================================================\n",
      "Use the sliders below to see how each parameter affects the yield curve:\n",
      "• β₀ (Level): Controls long-term rates\n",
      "• β₁ (Slope): Controls curve slope\n",
      "• β₂ (Curvature): Controls medium-term shape\n",
      "• τ (Tau): Controls decay rate\n",
      "\n"
     ]
    },
    {
     "data": {
      "text/plain": [
       "VBox(children=(HTML(value='\\n        <div style=\"background-color: #f0f8ff; padding: 15px; border-radius: 10px…"
      ],
      "application/vnd.jupyter.widget-view+json": {
       "version_major": 2,
       "version_minor": 0,
       "model_id": "e80eca4aaa814de2a40ca35bb64982c6"
      }
     },
     "metadata": {},
     "output_type": "display_data"
    }
   ],
   "execution_count": 18
  },
  {
   "cell_type": "markdown",
   "metadata": {},
   "source": [
    "## 🏛️ Chapter 4: Treasury vs TIPS Analysis\n",
    "\n",
    "### Understanding Real vs Nominal Yields\n",
    "\n",
    "**Treasury Securities** provide **nominal yields** that include:\n",
    "- Real return\n",
    "- Expected inflation\n",
    "- Inflation risk premium\n",
    "\n",
    "**TIPS (Treasury Inflation-Protected Securities)** provide **real yields** that are:\n",
    "- Adjusted for actual inflation\n",
    "- Protected against inflation risk\n",
    "- Show true purchasing power returns\n",
    "\n",
    "### Economic Insights from the Spread\n",
    "\n",
    "The **TIPS-Treasury spread** reveals:\n",
    "- **Market inflation expectations**\n",
    "- **Inflation risk premium**\n",
    "- **Liquidity differences**\n",
    "- **Flight-to-quality effects**\n"
   ]
  },
  {
   "cell_type": "code",
   "metadata": {
    "ExecuteTime": {
     "end_time": "2025-09-04T01:30:13.470820Z",
     "start_time": "2025-09-04T01:30:13.227037Z"
    }
   },
   "source": [
    "# Interactive Treasury vs TIPS Comparison\n",
    "if HAS_WIDGETS:\n",
    "    from nelson_siegel import TIPSNelsonSiegelModel\n",
    "    \n",
    "    print(\"🏛️ Treasury vs TIPS Interactive Comparison\")\n",
    "    print(\"=\" * 50)\n",
    "    \n",
    "    # Create Treasury explorer\n",
    "    treasury_explorer = InteractiveYieldCurveExplorer(bond_type='treasury')\n",
    "    print(\"📊 Treasury Securities (Nominal Yields)\")\n",
    "    display(treasury_explorer.create_full_interactive_dashboard())\n",
    "    \n",
    "    print(\"\\n\" + \"=\"*60 + \"\\n\")\n",
    "    \n",
    "    # Create TIPS explorer\n",
    "    tips_explorer = InteractiveYieldCurveExplorer(bond_type='tips')\n",
    "    print(\"🛡️ TIPS Securities (Real Yields)\")\n",
    "    display(tips_explorer.create_full_interactive_dashboard())\n",
    "    \n",
    "    print()\n",
    "    print(\"💡 Economic Interpretation:\")\n",
    "    print(\"• When Treasury > TIPS: Positive inflation expectations\")\n",
    "    print(\"• Steeper Treasury curve: Higher long-term inflation expectations\") \n",
    "    print(\"• Volatile TIPS: Changing real rate environment\")\n",
    "    print(\"• Converging curves: Low inflation expectations or deflation fears\")\n",
    "    \n",
    "else:\n",
    "    print(\"⚠️ Install ipywidgets for interactive Treasury vs TIPS comparison\")\n"
   ],
   "outputs": [
    {
     "name": "stdout",
     "output_type": "stream",
     "text": [
      "🏛️ Treasury vs TIPS Interactive Comparison\n",
      "==================================================\n",
      "📊 Treasury Securities (Nominal Yields)\n"
     ]
    },
    {
     "data": {
      "text/plain": [
       "VBox(children=(HTML(value='\\n        <div style=\"background-color: #f0f8ff; padding: 15px; border-radius: 10px…"
      ],
      "application/vnd.jupyter.widget-view+json": {
       "version_major": 2,
       "version_minor": 0,
       "model_id": "5d191f6ee40b4ddc887d78ae30eb056f"
      }
     },
     "metadata": {},
     "output_type": "display_data"
    },
    {
     "name": "stdout",
     "output_type": "stream",
     "text": [
      "\n",
      "============================================================\n",
      "\n",
      "🛡️ TIPS Securities (Real Yields)\n"
     ]
    },
    {
     "data": {
      "text/plain": [
       "VBox(children=(HTML(value='\\n        <div style=\"background-color: #f0f8ff; padding: 15px; border-radius: 10px…"
      ],
      "application/vnd.jupyter.widget-view+json": {
       "version_major": 2,
       "version_minor": 0,
       "model_id": "005dee208bc94256af64fcfbd17313d4"
      }
     },
     "metadata": {},
     "output_type": "display_data"
    },
    {
     "name": "stdout",
     "output_type": "stream",
     "text": [
      "\n",
      "💡 Economic Interpretation:\n",
      "• When Treasury > TIPS: Positive inflation expectations\n",
      "• Steeper Treasury curve: Higher long-term inflation expectations\n",
      "• Volatile TIPS: Changing real rate environment\n",
      "• Converging curves: Low inflation expectations or deflation fears\n"
     ]
    }
   ],
   "execution_count": 19
  },
  {
   "cell_type": "markdown",
   "metadata": {},
   "source": [
    "## 📊 Chapter 5: Historical Factor Analysis\n",
    "\n",
    "### Economic Cycles and Yield Curve Factors\n",
    "\n",
    "Understanding how Nelson-Siegel factors evolve over time provides crucial insights into:\n",
    "\n",
    "#### 🔄 **Business Cycle Patterns**\n",
    "- **Expansion**: Level ↑, Slope ↓ (steepening), Curvature varies\n",
    "- **Peak**: Level peaks, Slope becomes positive (inversion)\n",
    "- **Recession**: Level ↓, Slope ↑ (steepening again), Curvature ↑\n",
    "- **Recovery**: Level stabilizes, Slope normalizes, Curvature ↓\n",
    "\n",
    "#### 🏦 **Monetary Policy Transmission**\n",
    "- **Rate Hikes**: Immediate impact on Slope, delayed on Level\n",
    "- **QE Programs**: Suppress Level and Curvature\n",
    "- **Forward Guidance**: Affects Slope and medium-term expectations\n",
    "\n",
    "#### 📈 **Market Stress Indicators**\n",
    "- **High Curvature**: Flight-to-quality into intermediate bonds\n",
    "- **Negative Level**: Deflation fears or extreme monetary accommodation\n",
    "- **Volatile Tau**: Changing market structure or policy uncertainty\n"
   ]
  },
  {
   "cell_type": "code",
   "metadata": {
    "ExecuteTime": {
     "end_time": "2025-09-04T01:28:40.348852Z",
     "start_time": "2025-09-04T01:27:36.042949Z"
    }
   },
   "source": [
    "# Historical Factor Explorer\n",
    "if HAS_WIDGETS:\n",
    "    print(\"📊 Historical Factor Evolution Explorer\")\n",
    "    print(\"=\" * 50)\n",
    "    \n",
    "    # Create historical factor explorer\n",
    "    historical_explorer = HistoricalFactorExplorer()\n",
    "    display(historical_explorer.create_historical_dashboard())\n",
    "    \n",
    "    print()\n",
    "    print(\"📈 Key Patterns to Look For:\")\n",
    "    print(\"• Level trends: Long-term rate environment changes\")\n",
    "    print(\"• Slope inversions: Recession predictions\")\n",
    "    print(\"• Curvature spikes: Market stress or policy changes\")\n",
    "    print(\"• Tau stability: Market structure consistency\")\n",
    "    \n",
    "else:\n",
    "    print(\"⚠️ Install ipywidgets for historical factor analysis\")\n"
   ],
   "outputs": [
    {
     "name": "stdout",
     "output_type": "stream",
     "text": [
      "📊 Historical Factor Evolution Explorer\n",
      "==================================================\n",
      "Loading Treasury historical factors...\n",
      "Analyzing treasury data: 5725 observations\n",
      "Date range: 2010-01-01 to 2025-09-03\n",
      "Maturities: [0.08333333333333333, 0.25, 0.5, 1.0, 2.0, 3.0, 5.0, 10.0, 30.0] years\n",
      "Progress: 0/5725 (0.0%)\n",
      "Progress: 286/5725 (5.0%)\n",
      "Progress: 572/5725 (10.0%)\n",
      "Progress: 858/5725 (15.0%)\n",
      "Progress: 1144/5725 (20.0%)\n",
      "Progress: 1430/5725 (25.0%)\n",
      "Progress: 1716/5725 (30.0%)\n",
      "Progress: 2002/5725 (35.0%)\n",
      "Progress: 2288/5725 (40.0%)\n",
      "Progress: 2574/5725 (45.0%)\n",
      "Progress: 2860/5725 (50.0%)\n",
      "Progress: 3146/5725 (55.0%)\n",
      "Progress: 3432/5725 (59.9%)\n",
      "Progress: 3718/5725 (64.9%)\n",
      "Progress: 4004/5725 (69.9%)\n",
      "Progress: 4290/5725 (74.9%)\n",
      "Progress: 4576/5725 (79.9%)\n",
      "Progress: 4862/5725 (84.9%)\n",
      "Progress: 5148/5725 (89.9%)\n",
      "Progress: 5434/5725 (94.9%)\n",
      "Progress: 5720/5725 (99.9%)\n",
      "Successfully fitted 5725 out of 5725 dates\n",
      "Loading TIPS historical factors...\n",
      "Analyzing tips data: 5725 observations\n",
      "Date range: 2010-01-01 to 2025-09-03\n",
      "Maturities: [5.0, 7.0, 10.0, 20.0, 30.0] years\n",
      "Progress: 0/5725 (0.0%)\n",
      "Progress: 286/5725 (5.0%)\n",
      "Progress: 572/5725 (10.0%)\n"
     ]
    },
    {
     "ename": "KeyboardInterrupt",
     "evalue": "",
     "output_type": "error",
     "traceback": [
      "\u001B[31m---------------------------------------------------------------------------\u001B[39m",
      "\u001B[31mKeyboardInterrupt\u001B[39m                         Traceback (most recent call last)",
      "\u001B[36mCell\u001B[39m\u001B[36m \u001B[39m\u001B[32mIn[17]\u001B[39m\u001B[32m, line 8\u001B[39m\n\u001B[32m      6\u001B[39m \u001B[38;5;66;03m# Create historical factor explorer\u001B[39;00m\n\u001B[32m      7\u001B[39m historical_explorer = HistoricalFactorExplorer()\n\u001B[32m----> \u001B[39m\u001B[32m8\u001B[39m display(\u001B[43mhistorical_explorer\u001B[49m\u001B[43m.\u001B[49m\u001B[43mcreate_historical_dashboard\u001B[49m\u001B[43m(\u001B[49m\u001B[43m)\u001B[49m)\n\u001B[32m     10\u001B[39m \u001B[38;5;28mprint\u001B[39m()\n\u001B[32m     11\u001B[39m \u001B[38;5;28mprint\u001B[39m(\u001B[33m\"\u001B[39m\u001B[33m📈 Key Patterns to Look For:\u001B[39m\u001B[33m\"\u001B[39m)\n",
      "\u001B[36mFile \u001B[39m\u001B[32m~\\OneDrive\\Documentos\\Models_Git\\Economics\\Economics_NelsonSiegelModel\\src\\nelson_siegel\\interactive.py:466\u001B[39m, in \u001B[36mHistoricalFactorExplorer.create_historical_dashboard\u001B[39m\u001B[34m(self)\u001B[39m\n\u001B[32m    464\u001B[39m \u001B[38;5;66;03m# Load data if not already loaded\u001B[39;00m\n\u001B[32m    465\u001B[39m \u001B[38;5;28;01mif\u001B[39;00m \u001B[38;5;28mself\u001B[39m.treasury_factors \u001B[38;5;129;01mis\u001B[39;00m \u001B[38;5;28;01mNone\u001B[39;00m \u001B[38;5;129;01mor\u001B[39;00m \u001B[38;5;28mself\u001B[39m.tips_factors \u001B[38;5;129;01mis\u001B[39;00m \u001B[38;5;28;01mNone\u001B[39;00m:\n\u001B[32m--> \u001B[39m\u001B[32m466\u001B[39m     \u001B[38;5;28;43mself\u001B[39;49m\u001B[43m.\u001B[49m\u001B[43mload_historical_data\u001B[49m\u001B[43m(\u001B[49m\u001B[43m)\u001B[49m\n\u001B[32m    468\u001B[39m \u001B[38;5;66;03m# Create control widgets\u001B[39;00m\n\u001B[32m    469\u001B[39m factor_selector = widgets.Dropdown(\n\u001B[32m    470\u001B[39m     options=[\u001B[33m'\u001B[39m\u001B[33mLevel\u001B[39m\u001B[33m'\u001B[39m, \u001B[33m'\u001B[39m\u001B[33mSlope\u001B[39m\u001B[33m'\u001B[39m, \u001B[33m'\u001B[39m\u001B[33mCurvature\u001B[39m\u001B[33m'\u001B[39m, \u001B[33m'\u001B[39m\u001B[33mTau\u001B[39m\u001B[33m'\u001B[39m],\n\u001B[32m    471\u001B[39m     value=\u001B[33m'\u001B[39m\u001B[33mLevel\u001B[39m\u001B[33m'\u001B[39m,\n\u001B[32m    472\u001B[39m     description=\u001B[33m'\u001B[39m\u001B[33mFactor:\u001B[39m\u001B[33m'\u001B[39m,\n\u001B[32m    473\u001B[39m     style={\u001B[33m'\u001B[39m\u001B[33mdescription_width\u001B[39m\u001B[33m'\u001B[39m: \u001B[33m'\u001B[39m\u001B[33minitial\u001B[39m\u001B[33m'\u001B[39m}\n\u001B[32m    474\u001B[39m )\n",
      "\u001B[36mFile \u001B[39m\u001B[32m~\\OneDrive\\Documentos\\Models_Git\\Economics\\Economics_NelsonSiegelModel\\src\\nelson_siegel\\interactive.py:451\u001B[39m, in \u001B[36mHistoricalFactorExplorer.load_historical_data\u001B[39m\u001B[34m(self, start_date, end_date)\u001B[39m\n\u001B[32m    446\u001B[39m \u001B[38;5;28mself\u001B[39m.treasury_factors = analyzer.analyze_historical_factors(\n\u001B[32m    447\u001B[39m     \u001B[33m'\u001B[39m\u001B[33mtreasury\u001B[39m\u001B[33m'\u001B[39m, start_date, end_date\n\u001B[32m    448\u001B[39m )\n\u001B[32m    450\u001B[39m \u001B[38;5;28mprint\u001B[39m(\u001B[33m\"\u001B[39m\u001B[33mLoading TIPS historical factors...\u001B[39m\u001B[33m\"\u001B[39m)\n\u001B[32m--> \u001B[39m\u001B[32m451\u001B[39m \u001B[38;5;28mself\u001B[39m.tips_factors = \u001B[43manalyzer\u001B[49m\u001B[43m.\u001B[49m\u001B[43manalyze_historical_factors\u001B[49m\u001B[43m(\u001B[49m\n\u001B[32m    452\u001B[39m \u001B[43m    \u001B[49m\u001B[33;43m'\u001B[39;49m\u001B[33;43mtips\u001B[39;49m\u001B[33;43m'\u001B[39;49m\u001B[43m,\u001B[49m\u001B[43m \u001B[49m\u001B[43mstart_date\u001B[49m\u001B[43m,\u001B[49m\u001B[43m \u001B[49m\u001B[43mend_date\u001B[49m\n\u001B[32m    453\u001B[39m \u001B[43m\u001B[49m\u001B[43m)\u001B[49m\n",
      "\u001B[36mFile \u001B[39m\u001B[32m~\\OneDrive\\Documentos\\Models_Git\\Economics\\Economics_NelsonSiegelModel\\src\\nelson_siegel\\analysis.py:110\u001B[39m, in \u001B[36mYieldCurveAnalyzer.analyze_historical_factors\u001B[39m\u001B[34m(self, bond_type, start_date, end_date, min_data_points)\u001B[39m\n\u001B[32m    107\u001B[39m \u001B[38;5;28;01mtry\u001B[39;00m:\n\u001B[32m    108\u001B[39m     \u001B[38;5;66;03m# Fit model for this date\u001B[39;00m\n\u001B[32m    109\u001B[39m     model = model_class()\n\u001B[32m--> \u001B[39m\u001B[32m110\u001B[39m     \u001B[43mmodel\u001B[49m\u001B[43m.\u001B[49m\u001B[43mfit\u001B[49m\u001B[43m(\u001B[49m\u001B[43mvalid_maturities\u001B[49m\u001B[43m,\u001B[49m\u001B[43m \u001B[49m\u001B[43mvalid_yields\u001B[49m\u001B[43m)\u001B[49m\n\u001B[32m    111\u001B[39m     factors = model.get_factors()\n\u001B[32m    113\u001B[39m     factors_series = pd.Series({\n\u001B[32m    114\u001B[39m         \u001B[33m'\u001B[39m\u001B[33mLevel\u001B[39m\u001B[33m'\u001B[39m: factors[\u001B[33m'\u001B[39m\u001B[33mLevel\u001B[39m\u001B[33m'\u001B[39m],\n\u001B[32m    115\u001B[39m         \u001B[33m'\u001B[39m\u001B[33mSlope\u001B[39m\u001B[33m'\u001B[39m: factors[\u001B[33m'\u001B[39m\u001B[33mSlope\u001B[39m\u001B[33m'\u001B[39m],\n\u001B[32m    116\u001B[39m         \u001B[33m'\u001B[39m\u001B[33mCurvature\u001B[39m\u001B[33m'\u001B[39m: factors[\u001B[33m'\u001B[39m\u001B[33mCurvature\u001B[39m\u001B[33m'\u001B[39m],\n\u001B[32m    117\u001B[39m         \u001B[33m'\u001B[39m\u001B[33mTau\u001B[39m\u001B[33m'\u001B[39m: factors[\u001B[33m'\u001B[39m\u001B[33mTau\u001B[39m\u001B[33m'\u001B[39m]\n\u001B[32m    118\u001B[39m     }, name=date)\n",
      "\u001B[36mFile \u001B[39m\u001B[32m~\\OneDrive\\Documentos\\Models_Git\\Economics\\Economics_NelsonSiegelModel\\src\\nelson_siegel\\model.py:120\u001B[39m, in \u001B[36mNelsonSiegelModel.fit\u001B[39m\u001B[34m(self, maturities, yields)\u001B[39m\n\u001B[32m    117\u001B[39m     \u001B[38;5;28;01mraise\u001B[39;00m \u001B[38;5;167;01mValueError\u001B[39;00m(\u001B[33m\"\u001B[39m\u001B[33mInsufficient valid data points after removing NaNs\u001B[39m\u001B[33m\"\u001B[39m)\n\u001B[32m    119\u001B[39m \u001B[38;5;28;01mtry\u001B[39;00m:\n\u001B[32m--> \u001B[39m\u001B[32m120\u001B[39m     optimal_params, _ = \u001B[43mcurve_fit\u001B[49m\u001B[43m(\u001B[49m\n\u001B[32m    121\u001B[39m \u001B[43m        \u001B[49m\u001B[38;5;28;43mself\u001B[39;49m\u001B[43m.\u001B[49m\u001B[43mmodel_function\u001B[49m\u001B[43m,\u001B[49m\n\u001B[32m    122\u001B[39m \u001B[43m        \u001B[49m\u001B[43mmaturities_clean\u001B[49m\u001B[43m,\u001B[49m\n\u001B[32m    123\u001B[39m \u001B[43m        \u001B[49m\u001B[43myields_clean\u001B[49m\u001B[43m,\u001B[49m\n\u001B[32m    124\u001B[39m \u001B[43m        \u001B[49m\u001B[43mp0\u001B[49m\u001B[43m=\u001B[49m\u001B[38;5;28;43mself\u001B[39;49m\u001B[43m.\u001B[49m\u001B[43minitial_guess\u001B[49m\u001B[43m,\u001B[49m\n\u001B[32m    125\u001B[39m \u001B[43m        \u001B[49m\u001B[43mbounds\u001B[49m\u001B[43m=\u001B[49m\u001B[38;5;28;43mself\u001B[39;49m\u001B[43m.\u001B[49m\u001B[43mbounds\u001B[49m\u001B[43m,\u001B[49m\n\u001B[32m    126\u001B[39m \u001B[43m        \u001B[49m\u001B[43mmaxfev\u001B[49m\u001B[43m=\u001B[49m\u001B[32;43m10000\u001B[39;49m\n\u001B[32m    127\u001B[39m \u001B[43m    \u001B[49m\u001B[43m)\u001B[49m\n\u001B[32m    129\u001B[39m     \u001B[38;5;28mself\u001B[39m.parameters = {\n\u001B[32m    130\u001B[39m         \u001B[33m'\u001B[39m\u001B[33mbeta0\u001B[39m\u001B[33m'\u001B[39m: optimal_params[\u001B[32m0\u001B[39m],\n\u001B[32m    131\u001B[39m         \u001B[33m'\u001B[39m\u001B[33mbeta1\u001B[39m\u001B[33m'\u001B[39m: optimal_params[\u001B[32m1\u001B[39m], \n\u001B[32m    132\u001B[39m         \u001B[33m'\u001B[39m\u001B[33mbeta2\u001B[39m\u001B[33m'\u001B[39m: optimal_params[\u001B[32m2\u001B[39m],\n\u001B[32m    133\u001B[39m         \u001B[33m'\u001B[39m\u001B[33mtau\u001B[39m\u001B[33m'\u001B[39m: optimal_params[\u001B[32m3\u001B[39m]\n\u001B[32m    134\u001B[39m     }\n\u001B[32m    135\u001B[39m     \u001B[38;5;28mself\u001B[39m.fitted = \u001B[38;5;28;01mTrue\u001B[39;00m\n",
      "\u001B[36mFile \u001B[39m\u001B[32m~\\anaconda3\\envs\\Economics_NelsonSiegelModel\\Lib\\site-packages\\scipy\\optimize\\_minpack_py.py:1032\u001B[39m, in \u001B[36mcurve_fit\u001B[39m\u001B[34m(f, xdata, ydata, p0, sigma, absolute_sigma, check_finite, bounds, method, jac, full_output, nan_policy, **kwargs)\u001B[39m\n\u001B[32m   1029\u001B[39m \u001B[38;5;28;01mif\u001B[39;00m \u001B[33m'\u001B[39m\u001B[33mmax_nfev\u001B[39m\u001B[33m'\u001B[39m \u001B[38;5;129;01mnot\u001B[39;00m \u001B[38;5;129;01min\u001B[39;00m kwargs:\n\u001B[32m   1030\u001B[39m     kwargs[\u001B[33m'\u001B[39m\u001B[33mmax_nfev\u001B[39m\u001B[33m'\u001B[39m] = kwargs.pop(\u001B[33m'\u001B[39m\u001B[33mmaxfev\u001B[39m\u001B[33m'\u001B[39m, \u001B[38;5;28;01mNone\u001B[39;00m)\n\u001B[32m-> \u001B[39m\u001B[32m1032\u001B[39m res = \u001B[43mleast_squares\u001B[49m\u001B[43m(\u001B[49m\u001B[43mfunc\u001B[49m\u001B[43m,\u001B[49m\u001B[43m \u001B[49m\u001B[43mp0\u001B[49m\u001B[43m,\u001B[49m\u001B[43m \u001B[49m\u001B[43mjac\u001B[49m\u001B[43m=\u001B[49m\u001B[43mjac\u001B[49m\u001B[43m,\u001B[49m\u001B[43m \u001B[49m\u001B[43mbounds\u001B[49m\u001B[43m=\u001B[49m\u001B[43mbounds\u001B[49m\u001B[43m,\u001B[49m\u001B[43m \u001B[49m\u001B[43mmethod\u001B[49m\u001B[43m=\u001B[49m\u001B[43mmethod\u001B[49m\u001B[43m,\u001B[49m\n\u001B[32m   1033\u001B[39m \u001B[43m                    \u001B[49m\u001B[43m*\u001B[49m\u001B[43m*\u001B[49m\u001B[43mkwargs\u001B[49m\u001B[43m)\u001B[49m\n\u001B[32m   1035\u001B[39m \u001B[38;5;28;01mif\u001B[39;00m \u001B[38;5;129;01mnot\u001B[39;00m res.success:\n\u001B[32m   1036\u001B[39m     \u001B[38;5;28;01mraise\u001B[39;00m \u001B[38;5;167;01mRuntimeError\u001B[39;00m(\u001B[33m\"\u001B[39m\u001B[33mOptimal parameters not found: \u001B[39m\u001B[33m\"\u001B[39m + res.message)\n",
      "\u001B[36mFile \u001B[39m\u001B[32m~\\anaconda3\\envs\\Economics_NelsonSiegelModel\\Lib\\site-packages\\scipy\\_lib\\_util.py:696\u001B[39m, in \u001B[36m_workers_wrapper.<locals>.inner\u001B[39m\u001B[34m(*args, **kwds)\u001B[39m\n\u001B[32m    694\u001B[39m \u001B[38;5;28;01mwith\u001B[39;00m MapWrapper(_workers) \u001B[38;5;28;01mas\u001B[39;00m mf:\n\u001B[32m    695\u001B[39m     kwargs[\u001B[33m'\u001B[39m\u001B[33mworkers\u001B[39m\u001B[33m'\u001B[39m] = mf\n\u001B[32m--> \u001B[39m\u001B[32m696\u001B[39m     \u001B[38;5;28;01mreturn\u001B[39;00m \u001B[43mfunc\u001B[49m\u001B[43m(\u001B[49m\u001B[43m*\u001B[49m\u001B[43margs\u001B[49m\u001B[43m,\u001B[49m\u001B[43m \u001B[49m\u001B[43m*\u001B[49m\u001B[43m*\u001B[49m\u001B[43mkwargs\u001B[49m\u001B[43m)\u001B[49m\n",
      "\u001B[36mFile \u001B[39m\u001B[32m~\\anaconda3\\envs\\Economics_NelsonSiegelModel\\Lib\\site-packages\\scipy\\optimize\\_lsq\\least_squares.py:1019\u001B[39m, in \u001B[36mleast_squares\u001B[39m\u001B[34m(fun, x0, jac, bounds, method, ftol, xtol, gtol, x_scale, loss, f_scale, diff_step, tr_solver, tr_options, jac_sparsity, max_nfev, verbose, args, kwargs, callback, workers)\u001B[39m\n\u001B[32m   1015\u001B[39m     result = call_minpack(vector_fun.fun, x0, vector_fun.jac, ftol, xtol, gtol,\n\u001B[32m   1016\u001B[39m                           max_nfev, x_scale, jac_method=jac)\n\u001B[32m   1018\u001B[39m \u001B[38;5;28;01melif\u001B[39;00m method == \u001B[33m'\u001B[39m\u001B[33mtrf\u001B[39m\u001B[33m'\u001B[39m:\n\u001B[32m-> \u001B[39m\u001B[32m1019\u001B[39m     result = \u001B[43mtrf\u001B[49m\u001B[43m(\u001B[49m\u001B[43mvector_fun\u001B[49m\u001B[43m.\u001B[49m\u001B[43mfun\u001B[49m\u001B[43m,\u001B[49m\u001B[43m \u001B[49m\u001B[43mvector_fun\u001B[49m\u001B[43m.\u001B[49m\u001B[43mjac\u001B[49m\u001B[43m,\u001B[49m\u001B[43m \u001B[49m\u001B[43mx0\u001B[49m\u001B[43m,\u001B[49m\u001B[43m \u001B[49m\u001B[43mf0\u001B[49m\u001B[43m,\u001B[49m\u001B[43m \u001B[49m\u001B[43mJ0\u001B[49m\u001B[43m,\u001B[49m\u001B[43m \u001B[49m\u001B[43mlb\u001B[49m\u001B[43m,\u001B[49m\u001B[43m \u001B[49m\u001B[43mub\u001B[49m\u001B[43m,\u001B[49m\u001B[43m \u001B[49m\u001B[43mftol\u001B[49m\u001B[43m,\u001B[49m\u001B[43m \u001B[49m\u001B[43mxtol\u001B[49m\u001B[43m,\u001B[49m\n\u001B[32m   1020\u001B[39m \u001B[43m                 \u001B[49m\u001B[43mgtol\u001B[49m\u001B[43m,\u001B[49m\u001B[43m \u001B[49m\u001B[43mmax_nfev\u001B[49m\u001B[43m,\u001B[49m\u001B[43m \u001B[49m\u001B[43mx_scale\u001B[49m\u001B[43m,\u001B[49m\u001B[43m \u001B[49m\u001B[43mloss_function\u001B[49m\u001B[43m,\u001B[49m\u001B[43m \u001B[49m\u001B[43mtr_solver\u001B[49m\u001B[43m,\u001B[49m\n\u001B[32m   1021\u001B[39m \u001B[43m                 \u001B[49m\u001B[43mtr_options\u001B[49m\u001B[43m.\u001B[49m\u001B[43mcopy\u001B[49m\u001B[43m(\u001B[49m\u001B[43m)\u001B[49m\u001B[43m,\u001B[49m\u001B[43m \u001B[49m\u001B[43mverbose\u001B[49m\u001B[43m,\u001B[49m\u001B[43m \u001B[49m\u001B[43mcallback\u001B[49m\u001B[43m=\u001B[49m\u001B[43mcallback_wrapped\u001B[49m\u001B[43m)\u001B[49m\n\u001B[32m   1023\u001B[39m \u001B[38;5;28;01melif\u001B[39;00m method == \u001B[33m'\u001B[39m\u001B[33mdogbox\u001B[39m\u001B[33m'\u001B[39m:\n\u001B[32m   1024\u001B[39m     \u001B[38;5;28;01mif\u001B[39;00m tr_solver == \u001B[33m'\u001B[39m\u001B[33mlsmr\u001B[39m\u001B[33m'\u001B[39m \u001B[38;5;129;01mand\u001B[39;00m \u001B[33m'\u001B[39m\u001B[33mregularize\u001B[39m\u001B[33m'\u001B[39m \u001B[38;5;129;01min\u001B[39;00m tr_options:\n",
      "\u001B[36mFile \u001B[39m\u001B[32m~\\anaconda3\\envs\\Economics_NelsonSiegelModel\\Lib\\site-packages\\scipy\\optimize\\_lsq\\trf.py:124\u001B[39m, in \u001B[36mtrf\u001B[39m\u001B[34m(fun, jac, x0, f0, J0, lb, ub, ftol, xtol, gtol, max_nfev, x_scale, loss_function, tr_solver, tr_options, verbose, callback)\u001B[39m\n\u001B[32m    120\u001B[39m     \u001B[38;5;28;01mreturn\u001B[39;00m trf_no_bounds(\n\u001B[32m    121\u001B[39m         fun, jac, x0, f0, J0, ftol, xtol, gtol, max_nfev, x_scale,\n\u001B[32m    122\u001B[39m         loss_function, tr_solver, tr_options, verbose, callback=callback)\n\u001B[32m    123\u001B[39m \u001B[38;5;28;01melse\u001B[39;00m:\n\u001B[32m--> \u001B[39m\u001B[32m124\u001B[39m     \u001B[38;5;28;01mreturn\u001B[39;00m \u001B[43mtrf_bounds\u001B[49m\u001B[43m(\u001B[49m\n\u001B[32m    125\u001B[39m \u001B[43m        \u001B[49m\u001B[43mfun\u001B[49m\u001B[43m,\u001B[49m\u001B[43m \u001B[49m\u001B[43mjac\u001B[49m\u001B[43m,\u001B[49m\u001B[43m \u001B[49m\u001B[43mx0\u001B[49m\u001B[43m,\u001B[49m\u001B[43m \u001B[49m\u001B[43mf0\u001B[49m\u001B[43m,\u001B[49m\u001B[43m \u001B[49m\u001B[43mJ0\u001B[49m\u001B[43m,\u001B[49m\u001B[43m \u001B[49m\u001B[43mlb\u001B[49m\u001B[43m,\u001B[49m\u001B[43m \u001B[49m\u001B[43mub\u001B[49m\u001B[43m,\u001B[49m\u001B[43m \u001B[49m\u001B[43mftol\u001B[49m\u001B[43m,\u001B[49m\u001B[43m \u001B[49m\u001B[43mxtol\u001B[49m\u001B[43m,\u001B[49m\u001B[43m \u001B[49m\u001B[43mgtol\u001B[49m\u001B[43m,\u001B[49m\u001B[43m \u001B[49m\u001B[43mmax_nfev\u001B[49m\u001B[43m,\u001B[49m\u001B[43m \u001B[49m\u001B[43mx_scale\u001B[49m\u001B[43m,\u001B[49m\n\u001B[32m    126\u001B[39m \u001B[43m        \u001B[49m\u001B[43mloss_function\u001B[49m\u001B[43m,\u001B[49m\u001B[43m \u001B[49m\u001B[43mtr_solver\u001B[49m\u001B[43m,\u001B[49m\u001B[43m \u001B[49m\u001B[43mtr_options\u001B[49m\u001B[43m,\u001B[49m\u001B[43m \u001B[49m\u001B[43mverbose\u001B[49m\u001B[43m,\u001B[49m\u001B[43m \u001B[49m\u001B[43mcallback\u001B[49m\u001B[43m=\u001B[49m\u001B[43mcallback\u001B[49m\u001B[43m)\u001B[49m\n",
      "\u001B[36mFile \u001B[39m\u001B[32m~\\anaconda3\\envs\\Economics_NelsonSiegelModel\\Lib\\site-packages\\scipy\\optimize\\_lsq\\trf.py:359\u001B[39m, in \u001B[36mtrf_bounds\u001B[39m\u001B[34m(fun, jac, x0, f0, J0, lb, ub, ftol, xtol, gtol, max_nfev, x_scale, loss_function, tr_solver, tr_options, verbose, callback)\u001B[39m\n\u001B[32m    354\u001B[39m actual_reduction = cost - cost_new\n\u001B[32m    355\u001B[39m Delta_new, ratio = update_tr_radius(\n\u001B[32m    356\u001B[39m     Delta, actual_reduction, predicted_reduction,\n\u001B[32m    357\u001B[39m     step_h_norm, step_h_norm > \u001B[32m0.95\u001B[39m * Delta)\n\u001B[32m--> \u001B[39m\u001B[32m359\u001B[39m step_norm = \u001B[43mnorm\u001B[49m\u001B[43m(\u001B[49m\u001B[43mstep\u001B[49m\u001B[43m)\u001B[49m\n\u001B[32m    360\u001B[39m termination_status = check_termination(\n\u001B[32m    361\u001B[39m     actual_reduction, cost, step_norm, norm(x), ratio, ftol, xtol)\n\u001B[32m    362\u001B[39m \u001B[38;5;28;01mif\u001B[39;00m termination_status \u001B[38;5;129;01mis\u001B[39;00m \u001B[38;5;129;01mnot\u001B[39;00m \u001B[38;5;28;01mNone\u001B[39;00m:\n",
      "\u001B[36mFile \u001B[39m\u001B[32m~\\anaconda3\\envs\\Economics_NelsonSiegelModel\\Lib\\site-packages\\numpy\\linalg\\_linalg.py:2791\u001B[39m, in \u001B[36mnorm\u001B[39m\u001B[34m(x, ord, axis, keepdims)\u001B[39m\n\u001B[32m   2789\u001B[39m     sqnorm = x_real.dot(x_real) + x_imag.dot(x_imag)\n\u001B[32m   2790\u001B[39m \u001B[38;5;28;01melse\u001B[39;00m:\n\u001B[32m-> \u001B[39m\u001B[32m2791\u001B[39m     sqnorm = \u001B[43mx\u001B[49m\u001B[43m.\u001B[49m\u001B[43mdot\u001B[49m\u001B[43m(\u001B[49m\u001B[43mx\u001B[49m\u001B[43m)\u001B[49m\n\u001B[32m   2792\u001B[39m ret = sqrt(sqnorm)\n\u001B[32m   2793\u001B[39m \u001B[38;5;28;01mif\u001B[39;00m keepdims:\n",
      "\u001B[31mKeyboardInterrupt\u001B[39m: "
     ]
    }
   ],
   "execution_count": 17
  },
  {
   "cell_type": "markdown",
   "metadata": {},
   "source": [
    "## 💼 Chapter 6: Practical Investment Applications\n",
    "\n",
    "### Portfolio Management Applications\n",
    "\n",
    "#### 🎯 **Duration Matching**\n",
    "- Use Nelson-Siegel parameters to construct duration-neutral portfolios\n",
    "- Level factor exposure for long-term positioning\n",
    "- Slope factor for yield curve steepening/flattening trades\n",
    "\n",
    "#### 📈 **Relative Value Trading**\n",
    "- Identify cheap/expensive bonds relative to fitted curve\n",
    "- **Cheap bonds**: Trade below model prediction (positive residuals)\n",
    "- **Expensive bonds**: Trade above model prediction (negative residuals)\n",
    "\n",
    "#### ⚖️ **Risk Management**\n",
    "- **Level risk**: Sensitivity to parallel yield curve shifts\n",
    "- **Slope risk**: Sensitivity to yield curve steepening/flattening\n",
    "- **Curvature risk**: Sensitivity to butterfly trades\n",
    "\n",
    "### Central Bank Policy Analysis\n",
    "\n",
    "#### 🏛️ **Policy Effectiveness**\n",
    "- Track how policy changes affect each factor\n",
    "- Measure transmission mechanisms through factor evolution\n",
    "- Assess forward guidance effectiveness via slope factor\n"
   ]
  },
  {
   "cell_type": "code",
   "metadata": {
    "ExecuteTime": {
     "end_time": "2025-09-04T01:31:06.505438Z",
     "start_time": "2025-09-04T01:31:06.207183Z"
    }
   },
   "source": [
    "# Practical Trading Analysis\n",
    "if HAS_WIDGETS:\n",
    "    print(\"💼 Bond Relative Value Analysis\")\n",
    "    print(\"=\" * 40)\n",
    "    \n",
    "    # Sample current market data\n",
    "    current_maturities = np.array([2, 3, 5, 7, 10, 20, 30])\n",
    "    current_yields = np.array([4.8, 4.6, 4.5, 4.55, 4.6, 4.8, 4.7]) / 100\n",
    "    \n",
    "    # Fit model and find cheap/expensive bonds\n",
    "    model = TreasuryNelsonSiegelModel()\n",
    "    model.fit(current_maturities, current_yields)\n",
    "    \n",
    "    # Calculate model predictions\n",
    "    model_yields = model.predict(current_maturities)\n",
    "    residuals = (current_yields - model_yields) * 10000  # in basis points\n",
    "    \n",
    "    # Create results dataframe\n",
    "    results_df = pd.DataFrame({\n",
    "        'Maturity': current_maturities,\n",
    "        'Market_Yield': current_yields * 100,\n",
    "        'Model_Yield': model_yields * 100,\n",
    "        'Residual_bps': residuals,\n",
    "        'Classification': ['Cheap' if r > 5 else 'Expensive' if r < -5 else 'Fair' for r in residuals]\n",
    "    })\n",
    "    \n",
    "    print(\"🎯 Current Market Analysis:\")\n",
    "    print(results_df.round(1))\n",
    "    \n",
    "    print(\"\\n💡 Trading Insights:\")\n",
    "    cheap_bonds = results_df[results_df['Classification'] == 'Cheap']\n",
    "    expensive_bonds = results_df[results_df['Classification'] == 'Expensive']\n",
    "    \n",
    "    if len(cheap_bonds) > 0:\n",
    "        print(f\"🟢 Consider BUYING: {cheap_bonds['Maturity'].values}Y bonds (undervalued)\")\n",
    "    if len(expensive_bonds) > 0:\n",
    "        print(f\"🔴 Consider SELLING: {expensive_bonds['Maturity'].values}Y bonds (overvalued)\")\n",
    "    \n",
    "    # Show model parameters for context\n",
    "    factors = model.get_factors()\n",
    "    print(f\"\\n📊 Model Parameters:\")\n",
    "    print(f\"   Level: {factors['Level']*100:.2f}%\")\n",
    "    print(f\"   Slope: {factors['Slope']*100:.2f}%\")\n",
    "    print(f\"   Curvature: {factors['Curvature']*100:.2f}%\")\n",
    "    print(f\"   Tau: {factors['Tau']:.2f} years\")\n",
    "        \n",
    "else:\n",
    "    print(\"⚠️ Install ipywidgets for interactive trading analysis\")\n"
   ],
   "outputs": [
    {
     "name": "stdout",
     "output_type": "stream",
     "text": [
      "💼 Bond Relative Value Analysis\n",
      "========================================\n",
      "🎯 Current Market Analysis:\n",
      "   Maturity  Market_Yield  Model_Yield  Residual_bps Classification\n",
      "0         2           4.8          4.8          -0.3           Fair\n",
      "1         3           4.6          4.6           0.7           Fair\n",
      "2         5           4.5          4.5          -0.9           Fair\n",
      "3         7           4.6          4.5           0.2           Fair\n",
      "4        10           4.6          4.6          -1.7           Fair\n",
      "5        20           4.8          4.7           7.8          Cheap\n",
      "6        30           4.7          4.8          -5.9      Expensive\n",
      "\n",
      "💡 Trading Insights:\n",
      "🟢 Consider BUYING: [20]Y bonds (undervalued)\n",
      "🔴 Consider SELLING: [30]Y bonds (overvalued)\n",
      "\n",
      "📊 Model Parameters:\n",
      "   Level: 4.83%\n",
      "   Slope: 1.60%\n",
      "   Curvature: -3.09%\n",
      "   Tau: 1.46 years\n"
     ]
    }
   ],
   "execution_count": 20
  },
  {
   "cell_type": "markdown",
   "metadata": {},
   "source": [
    "## 🎓 Chapter 7: Advanced Economic Interpretation\n",
    "\n",
    "### Yield Curve Learning Tutorial\n",
    "\n",
    "Let's create an interactive tutorial that tests your understanding of yield curve economics.\n"
   ]
  },
  {
   "cell_type": "code",
   "metadata": {
    "ExecuteTime": {
     "end_time": "2025-09-04T01:31:17.749867Z",
     "start_time": "2025-09-04T01:31:17.742816Z"
    }
   },
   "source": [
    "# Interactive Economic Tutorial\n",
    "if HAS_WIDGETS:\n",
    "    print(\"🎓 Yield Curve Economics Tutorial\")\n",
    "    print(\"=\" * 40)\n",
    "    \n",
    "    # Create tutorial widget\n",
    "    tutorial_widget = create_yield_curve_tutorial()\n",
    "    display(tutorial_widget)\n",
    "    \n",
    "    print(\"\\n📚 Additional Learning Resources:\")\n",
    "    print(\"• Federal Reserve Economic Data (FRED)\")\n",
    "    print(\"• Treasury.gov yield curve data\")\n",
    "    print(\"• Academic papers on Nelson-Siegel modeling\")\n",
    "    print(\"• Central bank research publications\")\n",
    "    \n",
    "else:\n",
    "    print(\"⚠️ Install ipywidgets for interactive tutorial\")\n"
   ],
   "outputs": [
    {
     "name": "stdout",
     "output_type": "stream",
     "text": [
      "🎓 Yield Curve Economics Tutorial\n",
      "========================================\n"
     ]
    },
    {
     "data": {
      "text/plain": [
       "HTML(value='\\n    <div style=\"background-color: #e8f4fd; padding: 20px; border-radius: 15px; margin: 15px 0;\">…"
      ],
      "application/vnd.jupyter.widget-view+json": {
       "version_major": 2,
       "version_minor": 0,
       "model_id": "68cb501c6ce744a682ee3431bf68caf7"
      }
     },
     "metadata": {},
     "output_type": "display_data"
    },
    {
     "name": "stdout",
     "output_type": "stream",
     "text": [
      "\n",
      "📚 Additional Learning Resources:\n",
      "• Federal Reserve Economic Data (FRED)\n",
      "• Treasury.gov yield curve data\n",
      "• Academic papers on Nelson-Siegel modeling\n",
      "• Central bank research publications\n"
     ]
    }
   ],
   "execution_count": 21
  },
  {
   "cell_type": "markdown",
   "metadata": {},
   "source": [
    "## 🚀 Chapter 8: Summary and Next Steps\n",
    "\n",
    "### Key Takeaways\n",
    "\n",
    "🎯 **Nelson-Siegel Model Mastery**\n",
    "- Understand the economic meaning behind each parameter\n",
    "- Use interactive tools to build intuition\n",
    "- Apply to real-world fixed income analysis\n",
    "\n",
    "📊 **Practical Applications**\n",
    "- Identify relative value opportunities\n",
    "- Analyze monetary policy transmission\n",
    "- Manage yield curve risk in portfolios\n",
    "\n",
    "🔬 **Advanced Analysis**\n",
    "- Historical factor evolution patterns\n",
    "- Treasury vs TIPS spread analysis\n",
    "- Economic cycle identification\n",
    "\n",
    "### Next Steps for Your Analysis\n",
    "\n",
    "1. **📈 Download Real Data**: Use FRED API for current yield curve data\n",
    "2. **🔄 Regular Monitoring**: Set up automated factor tracking\n",
    "3. **📊 Portfolio Integration**: Incorporate into investment process\n",
    "4. **🎓 Continued Learning**: Explore additional yield curve models\n",
    "\n",
    "### Additional Resources\n",
    "\n",
    "- **Code Repository**: [GitHub - Nelson-Siegel Model](https://github.com/your-repo)\n",
    "- **Documentation**: Comprehensive API reference\n",
    "- **Examples**: More advanced usage patterns\n",
    "- **Community**: Join discussions and share insights\n"
   ]
  },
  {
   "cell_type": "code",
   "metadata": {
    "ExecuteTime": {
     "end_time": "2025-09-04T01:31:33.991736Z",
     "start_time": "2025-09-04T01:31:33.980121Z"
    }
   },
   "source": [
    "# Final Summary and Export Options\n",
    "print(\"🎉 Congratulations! You've completed the Nelson-Siegel Interactive Analysis\")\n",
    "print(\"=\" * 70)\n",
    "\n",
    "if HAS_WIDGETS:\n",
    "    print(\"✅ All interactive features are working\")\n",
    "    print(\"🎛️ You can now explore yield curves interactively\")\n",
    "    print(\"📊 Historical analysis tools are available\")\n",
    "    print(\"💼 Trading insights are at your fingertips\")\n",
    "else:\n",
    "    print(\"⚠️ To unlock full interactive features:\")\n",
    "    print(\"   pip install -e '.[interactive]'\")\n",
    "\n",
    "print(\"\\n🔗 Quick Commands for Analysis:\")\n",
    "print(\"   # Download real Treasury data\")\n",
    "print(\"   from nelson_siegel import DataManager\")\n",
    "print(\"   data_manager = DataManager()\")\n",
    "print(\"   treasury_data = data_manager.download_treasury_data()\")\n",
    "print()\n",
    "print(\"   # Fit model and analyze\")\n",
    "print(\"   from nelson_siegel import YieldCurveAnalyzer\")\n",
    "print(\"   analyzer = YieldCurveAnalyzer()\")\n",
    "print(\"   results = analyzer.analyze_yield_curve_historical(treasury_data)\")\n",
    "\n",
    "print(\"\\n🎯 Happy analyzing! 📈\")\n",
    "\n",
    "# Display notebook completion badge\n",
    "if HAS_WIDGETS:\n",
    "    completion_html = \"\"\"\n",
    "    <div style=\"border:2px solid #4CAF50; border-radius:10px; padding:20px; background-color:#f9f9f9; text-align:center; margin:20px 0;\">\n",
    "        <h2 style=\"color:#4CAF50; margin:0;\">🏆 Nelson-Siegel Analysis Complete! 🏆</h2>\n",
    "        <p style=\"margin:10px 0; font-size:16px;\">You've mastered interactive yield curve analysis</p>\n",
    "        <p style=\"margin:0; color:#666;\">Ready for real-world fixed income applications</p>\n",
    "    </div>\n",
    "    \"\"\"\n",
    "    display(HTML(completion_html))\n",
    "else:\n",
    "    print(\"\\n🏆 Analysis Complete! Install ipywidgets for the full interactive experience. 🏆\")\n"
   ],
   "outputs": [
    {
     "name": "stdout",
     "output_type": "stream",
     "text": [
      "🎉 Congratulations! You've completed the Nelson-Siegel Interactive Analysis\n",
      "======================================================================\n",
      "✅ All interactive features are working\n",
      "🎛️ You can now explore yield curves interactively\n",
      "📊 Historical analysis tools are available\n",
      "💼 Trading insights are at your fingertips\n",
      "\n",
      "🔗 Quick Commands for Analysis:\n",
      "   # Download real Treasury data\n",
      "   from nelson_siegel import DataManager\n",
      "   data_manager = DataManager()\n",
      "   treasury_data = data_manager.download_treasury_data()\n",
      "\n",
      "   # Fit model and analyze\n",
      "   from nelson_siegel import YieldCurveAnalyzer\n",
      "   analyzer = YieldCurveAnalyzer()\n",
      "   results = analyzer.analyze_yield_curve_historical(treasury_data)\n",
      "\n",
      "🎯 Happy analyzing! 📈\n"
     ]
    },
    {
     "data": {
      "text/plain": [
       "<IPython.core.display.HTML object>"
      ],
      "text/html": [
       "\n",
       "    <div style=\"border:2px solid #4CAF50; border-radius:10px; padding:20px; background-color:#f9f9f9; text-align:center; margin:20px 0;\">\n",
       "        <h2 style=\"color:#4CAF50; margin:0;\">🏆 Nelson-Siegel Analysis Complete! 🏆</h2>\n",
       "        <p style=\"margin:10px 0; font-size:16px;\">You've mastered interactive yield curve analysis</p>\n",
       "        <p style=\"margin:0; color:#666;\">Ready for real-world fixed income applications</p>\n",
       "    </div>\n",
       "    "
      ]
     },
     "metadata": {},
     "output_type": "display_data"
    }
   ],
   "execution_count": 22
  },
  {
   "cell_type": "code",
   "execution_count": null,
   "metadata": {},
   "outputs": [],
   "source": []
  }
 ],
 "metadata": {
  "language_info": {
   "name": "python"
  }
 },
 "nbformat": 4,
 "nbformat_minor": 2
}
